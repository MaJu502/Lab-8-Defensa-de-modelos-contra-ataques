{
 "cells": [
  {
   "cell_type": "markdown",
   "id": "94cc8f64",
   "metadata": {},
   "source": [
    "# Laboratorio 8\n",
    "Desarrollado por Marco Jurado carnet 20308 sobre archivo de \"Ejemplo defensa contra envenenamiento\" en el cual debajo del titulo \"LABORATORIO 8\" se encuentra el desarrollo del mismo. El probar con los ejemplos a continuación de Envenenamiento es sugerido en la hoja de instrucciones: <br><br>\n",
    "\"probar los ejemplos vistos en clase para asegurar que la herramienta fue instalada correctamente y que funciona sin problemas\""
   ]
  },
  {
   "cell_type": "code",
   "execution_count": 1,
   "id": "19491aef",
   "metadata": {},
   "outputs": [
    {
     "name": "stderr",
     "output_type": "stream",
     "text": [
      "C:\\Users\\marco\\AppData\\Roaming\\Python\\Python310\\site-packages\\tqdm\\auto.py:21: TqdmWarning: IProgress not found. Please update jupyter and ipywidgets. See https://ipywidgets.readthedocs.io/en/stable/user_install.html\n",
      "  from .autonotebook import tqdm as notebook_tqdm\n"
     ]
    }
   ],
   "source": [
    "import tensorflow as tf\n",
    "from tensorflow.keras.layers import Conv2D, MaxPool2D, Dense, Flatten\n",
    "import numpy as np\n",
    "import matplotlib.pyplot as plt\n",
    "import matplotlib\n",
    "from art.estimators.classification import KerasClassifier #No soporta TF 2\n",
    "from art.attacks.poisoning import PoisoningAttackBackdoor\n",
    "from art.attacks.poisoning.perturbations import add_pattern_bd\n",
    "from art.utils import load_dataset, to_categorical\n",
    "\n",
    "# Disabling eager execution from TF 2\n",
    "tf.compat.v1.disable_eager_execution()"
   ]
  },
  {
   "cell_type": "markdown",
   "id": "e60f9869",
   "metadata": {},
   "source": [
    "<h1>Envenenamiento</h1>"
   ]
  },
  {
   "cell_type": "code",
   "execution_count": 2,
   "id": "9446510e",
   "metadata": {},
   "outputs": [],
   "source": [
    "(train_images_original, train_labels_original), (test_images_original, test_labels_original), min, max = load_dataset(name=\"mnist\")"
   ]
  },
  {
   "cell_type": "code",
   "execution_count": 3,
   "id": "0ea162c4",
   "metadata": {},
   "outputs": [],
   "source": [
    "#Backdoor attack\n",
    "# Function for poisoning a given dataset\n",
    "def poison_dataset(\n",
    "    clean_images, \n",
    "    clean_labels, \n",
    "    target_labels, \n",
    "    percent_poison\n",
    "    ):\n",
    "    # Creating copies of our clean images and labels\n",
    "    # Poisoned samples will be added to these copies\n",
    "    x_poison = clean_images.copy()\n",
    "    y_poison = clean_labels.copy()\n",
    "\n",
    "    # Array to indicate if a sample is poisoned or not\n",
    "    # 0s are for clean samples, 1s are for poisoned samples\n",
    "    is_poison = np.zeros(shape=y_poison.shape[0])\n",
    "\n",
    "    # Indicating our source labels (as integers)\n",
    "    source_labels = np.arange(10)\n",
    "\n",
    "    # Defining a backdoor attack\n",
    "    backdoor_attack = PoisoningAttackBackdoor(perturbation=add_pattern_bd)    \n",
    "\n",
    "    # Iterating over our source labels and provided target labels\n",
    "    for (source_label, target_label) in (zip(source_labels, target_labels)):\n",
    "        # Calculating the number of clean labels that are equal to the\n",
    "        # current source label\n",
    "        num_labels = np.size(np.where(np.argmax(a=clean_labels, axis=1) == source_label))                \n",
    "\n",
    "        # Calculating the number of samples that should be poisoned from\n",
    "        # the current source labels\n",
    "        num_poison = round(percent_poison * num_labels)\n",
    "        \n",
    "        # Getting the images for the current clean label\n",
    "        source_images = clean_images[np.argmax(a=clean_labels, axis=1) == source_label]\n",
    "\n",
    "        # Randomly picking indices to poison\n",
    "        indices_to_be_poisoned = np.random.choice(\n",
    "            a=num_labels, \n",
    "            size=num_poison\n",
    "            )        \n",
    "\n",
    "        # Get the images for the current label that should be poisoned\n",
    "        images_to_be_poisoned = source_images[indices_to_be_poisoned].copy()        \n",
    "\n",
    "        # Converting the target label to a categorical\n",
    "        target_label = to_categorical(labels=(np.ones(shape=num_poison) * target_label), nb_classes=10)\n",
    "\n",
    "        # Poisoning the images and labels for the current label\n",
    "        poisoned_images, poisoned_labels = backdoor_attack.poison(\n",
    "            x=images_to_be_poisoned, \n",
    "            y=target_label\n",
    "            )\n",
    "\n",
    "        # Appending the poisoned images to our clean images\n",
    "        x_poison = np.append(\n",
    "            arr=x_poison, \n",
    "            values=poisoned_images, \n",
    "            axis=0\n",
    "            )\n",
    "\n",
    "        # Appending the poisoned labels to our clean labels\n",
    "        y_poison = np.append(\n",
    "            arr=y_poison, \n",
    "            values=poisoned_labels, \n",
    "            axis=0\n",
    "            )\n",
    "\n",
    "        # Appending 1s to the poison indicator array\n",
    "        is_poison = np.append(\n",
    "            arr=is_poison, \n",
    "            values=np.ones(shape=num_poison)\n",
    "            )\n",
    "    \n",
    "    # Returning the poisoned samples and the poison indicator array\n",
    "    return is_poison, x_poison, y_poison"
   ]
  },
  {
   "cell_type": "code",
   "execution_count": 4,
   "id": "e5f0641a",
   "metadata": {},
   "outputs": [],
   "source": [
    "# Defining target labels (0, 1, 2, 3 ... 0)\n",
    "target_labels = (np.arange(10) + 1) % 10\n",
    "\n",
    "# Poisoning the training data\n",
    "percent_poison = .50\n",
    "(is_poison_train, train_images, train_labels) = poison_dataset(\n",
    "    clean_images=train_images_original[:10000], \n",
    "    clean_labels=train_labels_original[:10000], \n",
    "    target_labels=target_labels, \n",
    "    percent_poison=percent_poison)\n",
    "\n",
    "# Poisoning the test data\n",
    "(is_poison_test, test_images, test_labels) = poison_dataset(\n",
    "    clean_images=test_images_original, \n",
    "    clean_labels=test_labels_original,\n",
    "    target_labels=target_labels, \n",
    "    percent_poison=percent_poison)\n",
    "\n",
    "# Getting the clean and poisoned images & labels from the test set\n",
    "clean_test_images, clean_test_labels = test_images[is_poison_test == 0], test_labels[is_poison_test == 0]\n",
    "poisoned_test_images, poisoned_test_labels = test_images[is_poison_test == 1], test_labels[is_poison_test == 1]\n",
    "\n",
    "# Shuffling the training data\n",
    "num_train = train_images.shape[0]\n",
    "shuffled_indices = np.arange(num_train)\n",
    "np.random.shuffle(shuffled_indices)\n",
    "train_images = train_images[shuffled_indices]\n",
    "train_labels = train_labels[shuffled_indices]"
   ]
  },
  {
   "cell_type": "code",
   "execution_count": 5,
   "id": "28fcb594",
   "metadata": {},
   "outputs": [],
   "source": [
    "# Function for creating a figure and axes\n",
    "def create_figure_axes(\n",
    "    nrows, \n",
    "    ncols, \n",
    "    figsize\n",
    "    ):\n",
    "    # Creating a figure and axes\n",
    "    fig, axes = plt.subplots(\n",
    "        nrows=nrows, \n",
    "        ncols=ncols, \n",
    "        figsize=figsize\n",
    "        )\n",
    "\n",
    "    # Returning the figure and axes\n",
    "    return fig, axes"
   ]
  },
  {
   "cell_type": "code",
   "execution_count": 6,
   "id": "ca6171c2",
   "metadata": {},
   "outputs": [],
   "source": [
    "# Function for plotting images\n",
    "def plot_images(\n",
    "    images,\n",
    "    labels,    \n",
    "    plot_label,\n",
    "    is_categorical,\n",
    "    nrows, \n",
    "    ncols,\n",
    "    figsize\n",
    "    ):    \n",
    "    # Creating a figure and axes\n",
    "    fig, axes = create_figure_axes(\n",
    "        nrows=nrows, \n",
    "        ncols=ncols, \n",
    "        figsize=figsize\n",
    "        )\n",
    "\n",
    "    # Defining a counting variable\n",
    "    counter = 0\n",
    "\n",
    "    # Iterating over our rows and cols,\n",
    "    # plotting poisoned test images\n",
    "    # along with their true targets\n",
    "    for i in range(nrows):\n",
    "        for j in range(ncols):\n",
    "            # Converting the current label to an integer \n",
    "            # if it is categorical\n",
    "            if is_categorical:\n",
    "                label = np.argmax(a=labels[counter])\n",
    "            else:\n",
    "                label = labels[counter]\n",
    "            \n",
    "            # Displaying the current image\n",
    "            # and setting axis title\n",
    "            axes[i, j].imshow(images[counter])\n",
    "            axes[i, j].set_title(label=f\"{plot_label}: {label}\")\n",
    "\n",
    "            # Disabling ticks\n",
    "            axes[i, j].set_xticks(ticks=[])\n",
    "            axes[i, j].set_yticks(ticks=[])\n",
    "\n",
    "            # Incrementing the counter\n",
    "            counter += 1"
   ]
  },
  {
   "cell_type": "code",
   "execution_count": 7,
   "id": "2a1ea581",
   "metadata": {},
   "outputs": [
    {
     "data": {
      "image/png": "[encoded data removed]",
      "text/plain": [
       "<Figure size 2500x1000 with 10 Axes>"
      ]
     },
     "metadata": {},
     "output_type": "display_data"
    }
   ],
   "source": [
    "# Plotting ten samples of training images and their labels\n",
    "plot_images(\n",
    "    images=train_images, \n",
    "    labels=train_labels,\n",
    "    plot_label=\"Label\",\n",
    "    is_categorical=True,\n",
    "    nrows=2,\n",
    "    ncols=5,\n",
    "    figsize=(25, 10))"
   ]
  },
  {
   "cell_type": "code",
   "execution_count": 8,
   "id": "b682a6d2",
   "metadata": {},
   "outputs": [],
   "source": [
    "# Function for creating model\n",
    "def create_model():\n",
    "    # Defining the model\n",
    "    model = tf.keras.models.Sequential([\n",
    "        Conv2D(filters=32, kernel_size=3, activation=\"relu\", input_shape=(28, 28, 1)),\n",
    "        Conv2D(filters=64, kernel_size=3, activation=\"relu\"),\n",
    "        MaxPool2D(pool_size=2),\n",
    "        Flatten(),\n",
    "        Dense(units=128, activation=\"relu\"),\n",
    "        Dense(units=10, activation=\"softmax\")\n",
    "    ])\n",
    "\n",
    "    # Compiling the model\n",
    "    model.compile(\n",
    "        optimizer=\"adam\",\n",
    "        loss=\"categorical_crossentropy\",\n",
    "        metrics=[\"accuracy\"]\n",
    "        )\n",
    "\n",
    "    # Returning the model\n",
    "    return model"
   ]
  },
  {
   "cell_type": "code",
   "execution_count": 9,
   "id": "f65602c1",
   "metadata": {},
   "outputs": [
    {
     "name": "stdout",
     "output_type": "stream",
     "text": [
      "Train on 15001 samples\n",
      "Epoch 1/10\n",
      "15001/15001 [==============================] - 20s 1ms/sample - loss: 0.4497 - accuracy: 0.8519\n",
      "Epoch 2/10\n",
      "15001/15001 [==============================] - 18s 1ms/sample - loss: 0.0837 - accuracy: 0.9754\n",
      "Epoch 3/10\n",
      "15001/15001 [==============================] - 18s 1ms/sample - loss: 0.0423 - accuracy: 0.9871\n",
      "Epoch 4/10\n",
      "15001/15001 [==============================] - 19s 1ms/sample - loss: 0.0249 - accuracy: 0.9915\n",
      "Epoch 5/10\n",
      "15001/15001 [==============================] - 21s 1ms/sample - loss: 0.0093 - accuracy: 0.9974\n",
      "Epoch 6/10\n",
      "15001/15001 [==============================] - 20s 1ms/sample - loss: 0.0143 - accuracy: 0.9962\n",
      "Epoch 7/10\n",
      "15001/15001 [==============================] - 20s 1ms/sample - loss: 0.0142 - accuracy: 0.9956\n",
      "Epoch 8/10\n",
      "15001/15001 [==============================] - 17s 1ms/sample - loss: 0.0073 - accuracy: 0.9977\n",
      "Epoch 9/10\n",
      "15001/15001 [==============================] - 20s 1ms/sample - loss: 0.0129 - accuracy: 0.9954\n",
      "Epoch 10/10\n",
      "15001/15001 [==============================] - 20s 1ms/sample - loss: 0.0096 - accuracy: 0.9963\n"
     ]
    },
    {
     "data": {
      "text/plain": [
       "<keras.callbacks.History at 0x25da50b15a0>"
      ]
     },
     "execution_count": 9,
     "metadata": {},
     "output_type": "execute_result"
    }
   ],
   "source": [
    "# Creating and training a victim classifier\n",
    "# with the poisoned data\n",
    "model_poisoned = create_model()\n",
    "model_poisoned.fit(\n",
    "    x=train_images,\n",
    "    y=train_labels,\n",
    "    epochs=10\n",
    "    )"
   ]
  },
  {
   "cell_type": "code",
   "execution_count": 10,
   "id": "1b74c05a",
   "metadata": {},
   "outputs": [
    {
     "name": "stderr",
     "output_type": "stream",
     "text": [
      "C:\\Users\\marco\\AppData\\Roaming\\Python\\Python310\\site-packages\\keras\\engine\\training_v1.py:2359: UserWarning: `Model.state_updates` will be removed in a future version. This property should not be used in TensorFlow 2.0, as `updates` are applied automatically.\n",
      "  updates=self.state_updates,\n"
     ]
    },
    {
     "data": {
      "image/png": "[encoded data removed]",
      "text/plain": [
       "<Figure size 2500x1000 with 10 Axes>"
      ]
     },
     "metadata": {},
     "output_type": "display_data"
    }
   ],
   "source": [
    "# Getting predictions for the selected images\n",
    "clean_predictions = model_poisoned.predict(x=clean_test_images)\n",
    "\n",
    "# Plotting clean test images and their predictions\n",
    "plot_images(\n",
    "    images=clean_test_images,\n",
    "    labels=clean_predictions,\n",
    "    plot_label=\"Clean Prediction\",\n",
    "    is_categorical=True,\n",
    "    nrows=2,\n",
    "    ncols=5,\n",
    "    figsize=(25, 10)\n",
    ")"
   ]
  },
  {
   "cell_type": "code",
   "execution_count": 11,
   "id": "0e98d523",
   "metadata": {},
   "outputs": [
    {
     "data": {
      "image/png": "[encoded data removed]",
      "text/plain": [
       "<Figure size 2500x1000 with 10 Axes>"
      ]
     },
     "metadata": {},
     "output_type": "display_data"
    }
   ],
   "source": [
    "# Getting random ten images from the poisoned test set\n",
    "num_samples = 10\n",
    "sample_indices = np.random.choice(\n",
    "    a=len(poisoned_test_images), \n",
    "    size=num_samples\n",
    "    )\n",
    "sample_poisoned_images = poisoned_test_images[sample_indices]\n",
    "\n",
    "# Getting predictions for the selected images\n",
    "poisoned_predictions = model_poisoned.predict(x=sample_poisoned_images)\n",
    "\n",
    "# Plotting poisoned test images and their predictions\n",
    "plot_images(\n",
    "    images=sample_poisoned_images,\n",
    "    labels=poisoned_predictions,\n",
    "    plot_label=\"Poisoned Prediction\",\n",
    "    is_categorical=True,\n",
    "    nrows=2,\n",
    "    ncols=5,\n",
    "    figsize=(25, 10)\n",
    ")"
   ]
  },
  {
   "cell_type": "markdown",
   "id": "70cdd7f2",
   "metadata": {},
   "source": [
    "<h1>Defensa contra envenenamiento</h1>"
   ]
  },
  {
   "cell_type": "code",
   "execution_count": 12,
   "id": "037baeba",
   "metadata": {},
   "outputs": [],
   "source": [
    "from art.defences.detector.poison import ActivationDefence\n",
    "\n",
    "# Wrapping our model in KerasClassifier\n",
    "classifier_poisoned = KerasClassifier(\n",
    "    model=model_poisoned,\n",
    "    clip_values=(min, max)\n",
    ")\n",
    "\n",
    "# Initializing a defense object\n",
    "defense = ActivationDefence(\n",
    "    classifier=classifier_poisoned, \n",
    "    x_train=train_images, \n",
    "    y_train=train_labels\n",
    "    )"
   ]
  },
  {
   "cell_type": "code",
   "execution_count": 13,
   "id": "a754532a",
   "metadata": {},
   "outputs": [
    {
     "name": "stderr",
     "output_type": "stream",
     "text": [
      "C:\\Users\\marco\\AppData\\Roaming\\Python\\Python310\\site-packages\\sklearn\\cluster\\_kmeans.py:870: FutureWarning: The default value of `n_init` will change from 10 to 'auto' in 1.4. Set the value of `n_init` explicitly to suppress the warning\n",
      "  warnings.warn(\n",
      "C:\\Users\\marco\\AppData\\Roaming\\Python\\Python310\\site-packages\\sklearn\\cluster\\_kmeans.py:870: FutureWarning: The default value of `n_init` will change from 10 to 'auto' in 1.4. Set the value of `n_init` explicitly to suppress the warning\n",
      "  warnings.warn(\n",
      "C:\\Users\\marco\\AppData\\Roaming\\Python\\Python310\\site-packages\\sklearn\\cluster\\_kmeans.py:870: FutureWarning: The default value of `n_init` will change from 10 to 'auto' in 1.4. Set the value of `n_init` explicitly to suppress the warning\n",
      "  warnings.warn(\n",
      "C:\\Users\\marco\\AppData\\Roaming\\Python\\Python310\\site-packages\\sklearn\\cluster\\_kmeans.py:870: FutureWarning: The default value of `n_init` will change from 10 to 'auto' in 1.4. Set the value of `n_init` explicitly to suppress the warning\n",
      "  warnings.warn(\n",
      "C:\\Users\\marco\\AppData\\Roaming\\Python\\Python310\\site-packages\\sklearn\\cluster\\_kmeans.py:870: FutureWarning: The default value of `n_init` will change from 10 to 'auto' in 1.4. Set the value of `n_init` explicitly to suppress the warning\n",
      "  warnings.warn(\n",
      "C:\\Users\\marco\\AppData\\Roaming\\Python\\Python310\\site-packages\\sklearn\\cluster\\_kmeans.py:870: FutureWarning: The default value of `n_init` will change from 10 to 'auto' in 1.4. Set the value of `n_init` explicitly to suppress the warning\n",
      "  warnings.warn(\n",
      "C:\\Users\\marco\\AppData\\Roaming\\Python\\Python310\\site-packages\\sklearn\\cluster\\_kmeans.py:870: FutureWarning: The default value of `n_init` will change from 10 to 'auto' in 1.4. Set the value of `n_init` explicitly to suppress the warning\n",
      "  warnings.warn(\n",
      "C:\\Users\\marco\\AppData\\Roaming\\Python\\Python310\\site-packages\\sklearn\\cluster\\_kmeans.py:870: FutureWarning: The default value of `n_init` will change from 10 to 'auto' in 1.4. Set the value of `n_init` explicitly to suppress the warning\n",
      "  warnings.warn(\n",
      "C:\\Users\\marco\\AppData\\Roaming\\Python\\Python310\\site-packages\\sklearn\\cluster\\_kmeans.py:870: FutureWarning: The default value of `n_init` will change from 10 to 'auto' in 1.4. Set the value of `n_init` explicitly to suppress the warning\n",
      "  warnings.warn(\n",
      "C:\\Users\\marco\\AppData\\Roaming\\Python\\Python310\\site-packages\\sklearn\\cluster\\_kmeans.py:870: FutureWarning: The default value of `n_init` will change from 10 to 'auto' in 1.4. Set the value of `n_init` explicitly to suppress the warning\n",
      "  warnings.warn(\n"
     ]
    }
   ],
   "source": [
    "#La defensa usa K-means y PCA para la detección de dos clusteres, maliciosos y no maliciosos\n",
    "# Detecting poisoned samples in the provided images\n",
    "\n",
    "report, is_clean_reported = defense.detect_poison(\n",
    "    nb_clusters=2,\n",
    "    reduce=\"PCA\",\n",
    "    nb_dims=10)"
   ]
  },
  {
   "cell_type": "code",
   "execution_count": 14,
   "id": "32068419",
   "metadata": {},
   "outputs": [
    {
     "name": "stdout",
     "output_type": "stream",
     "text": [
      "{'Class_0': {'cluster_0': {'ptc_data_in_cluster': 0.67,\n",
      "                           'suspicious_cluster': False},\n",
      "             'cluster_1': {'ptc_data_in_cluster': 0.33,\n",
      "                           'suspicious_cluster': True}},\n",
      " 'Class_1': {'cluster_0': {'ptc_data_in_cluster': 0.69,\n",
      "                           'suspicious_cluster': False},\n",
      "             'cluster_1': {'ptc_data_in_cluster': 0.31,\n",
      "                           'suspicious_cluster': True}},\n",
      " 'Class_2': {'cluster_0': {'ptc_data_in_cluster': 0.64,\n",
      "                           'suspicious_cluster': False},\n",
      "             'cluster_1': {'ptc_data_in_cluster': 0.36,\n",
      "                           'suspicious_cluster': True}},\n",
      " 'Class_3': {'cluster_0': {'ptc_data_in_cluster': 0.68,\n",
      "                           'suspicious_cluster': False},\n",
      "             'cluster_1': {'ptc_data_in_cluster': 0.32,\n",
      "                           'suspicious_cluster': True}},\n",
      " 'Class_4': {'cluster_0': {'ptc_data_in_cluster': 0.66,\n",
      "                           'suspicious_cluster': False},\n",
      "             'cluster_1': {'ptc_data_in_cluster': 0.34,\n",
      "                           'suspicious_cluster': True}},\n",
      " 'Class_5': {'cluster_0': {'ptc_data_in_cluster': 0.36,\n",
      "                           'suspicious_cluster': True},\n",
      "             'cluster_1': {'ptc_data_in_cluster': 0.64,\n",
      "                           'suspicious_cluster': False}},\n",
      " 'Class_6': {'cluster_0': {'ptc_data_in_cluster': 0.7,\n",
      "                           'suspicious_cluster': False},\n",
      "             'cluster_1': {'ptc_data_in_cluster': 0.3,\n",
      "                           'suspicious_cluster': True}},\n",
      " 'Class_7': {'cluster_0': {'ptc_data_in_cluster': 0.68,\n",
      "                           'suspicious_cluster': False},\n",
      "             'cluster_1': {'ptc_data_in_cluster': 0.32,\n",
      "                           'suspicious_cluster': True}},\n",
      " 'Class_8': {'cluster_0': {'ptc_data_in_cluster': 0.64,\n",
      "                           'suspicious_cluster': False},\n",
      "             'cluster_1': {'ptc_data_in_cluster': 0.36,\n",
      "                           'suspicious_cluster': True}},\n",
      " 'Class_9': {'cluster_0': {'ptc_data_in_cluster': 0.67,\n",
      "                           'suspicious_cluster': False},\n",
      "             'cluster_1': {'ptc_data_in_cluster': 0.33,\n",
      "                           'suspicious_cluster': True}},\n",
      " 'cluster_analysis': 'smaller',\n",
      " 'clustering_method': 'KMeans',\n",
      " 'ex_re_threshold': None,\n",
      " 'generator': None,\n",
      " 'nb_clusters': 2,\n",
      " 'nb_dims': 10,\n",
      " 'reduce': 'PCA',\n",
      " 'suspicious_clusters': 10}\n"
     ]
    }
   ],
   "source": [
    "# Inspecting the report\n",
    "import pprint\n",
    "pprint.pprint(report)"
   ]
  },
  {
   "cell_type": "code",
   "execution_count": 15,
   "id": "3ab1a098",
   "metadata": {},
   "outputs": [
    {
     "data": {
      "image/png": "[encoded data removed]",
      "text/plain": [
       "<Figure size 2500x1000 with 10 Axes>"
      ]
     },
     "metadata": {},
     "output_type": "display_data"
    }
   ],
   "source": [
    "# Plotting ten samples of training images and their labels\n",
    "plot_images(\n",
    "    images=train_images, \n",
    "    labels=np.array(object=is_clean_reported) == 1,\n",
    "    plot_label=\"Is clean\",\n",
    "    is_categorical=False,\n",
    "    nrows=2,\n",
    "    ncols=5,\n",
    "    figsize=(25, 10))"
   ]
  },
  {
   "cell_type": "markdown",
   "id": "e27ee706",
   "metadata": {},
   "source": [
    "# LABORATORIO 8\n",
    "Una vez hemos corroborado tras haber corrido el ejemplo de ataque por envenenamiento procedemos a realizar el laboratorio donde tenemos que realizar la defensa de dos ataques adicionales distintos al de envenenamiento."
   ]
  },
  {
   "cell_type": "code",
   "execution_count": 16,
   "id": "173ecd50",
   "metadata": {},
   "outputs": [],
   "source": [
    "#!pip install adversarial-robustness-toolbox tensorflow matplotlib"
   ]
  },
  {
   "cell_type": "markdown",
   "id": "d3cbeac7",
   "metadata": {},
   "source": [
    "## Defensa de ataque de evasión\n",
    "Para la defensa de este ataque estaremos utilizando FGSM para poder asegurar la defensa de nuestro modelo y respectivamente probar su eficiencia."
   ]
  },
  {
   "cell_type": "markdown",
   "id": "e247eb0f",
   "metadata": {},
   "source": [
    "#### 1. Crear y entrenar un modelo para el ataque FGSM\n",
    "\n",
    "La idea de tener un modelo entrenado en blanco es para poder apreciar el cambio de la data con el ataque de FGSM y luego poder aplicar las medidas de seguridad con la finalidad de poder finalmente mostrar el cambio que brinda el aplicar esta defensa a los modelos."
   ]
  },
  {
   "cell_type": "code",
   "execution_count": 17,
   "id": "f140e658",
   "metadata": {},
   "outputs": [],
   "source": [
    "import tensorflow as tf\n",
    "from tensorflow.keras.layers import Conv2D, MaxPool2D, Dense, Flatten\n",
    "import matplotlib.pyplot as plt\n",
    "import numpy as np\n",
    "from art.estimators.classification import KerasClassifier\n",
    "from art.attacks.evasion import FastGradientMethod\n",
    "from art.utils import load_mnist\n",
    "\n",
    "(train_images_original, train_labels_original), (test_images_original, test_labels_original), min_, max_ = load_mnist()\n",
    "\n",
    "def create_model():\n",
    "    model = tf.keras.models.Sequential([\n",
    "        Conv2D(32, 3, activation=\"relu\", input_shape=(28, 28, 1)),\n",
    "        Conv2D(64, 3, activation=\"relu\"),\n",
    "        MaxPool2D(pool_size=2),\n",
    "        Flatten(),\n",
    "        Dense(128, activation=\"relu\"),\n",
    "        Dense(10, activation=\"softmax\")\n",
    "    ])\n",
    "    model.compile(optimizer=\"adam\", loss=\"categorical_crossentropy\", metrics=[\"accuracy\"])\n",
    "    return model\n",
    "\n",
    "def plot_images(images, titles, nrows, ncols, figsize):\n",
    "    fig, axes = plt.subplots(nrows=nrows, ncols=ncols, figsize=figsize)\n",
    "    for i, ax in enumerate(axes.flat):\n",
    "        ax.imshow(images[i], cmap='gray')\n",
    "        ax.set_title(titles[i])\n",
    "        ax.axis('off')\n",
    "    plt.tight_layout()\n",
    "    plt.show()\n",
    "\n",
    "titles_original = ['Original' for _ in range(5)]"
   ]
  },
  {
   "cell_type": "code",
   "execution_count": 18,
   "id": "e866f815",
   "metadata": {},
   "outputs": [
    {
     "name": "stdout",
     "output_type": "stream",
     "text": [
      "Train on 60000 samples\n",
      "Epoch 1/10\n",
      "60000/60000 [==============================] - 74s 1ms/sample - loss: 0.1126 - accuracy: 0.9655\n",
      "Epoch 2/10\n",
      "60000/60000 [==============================] - 75s 1ms/sample - loss: 0.0373 - accuracy: 0.9883\n",
      "Epoch 3/10\n",
      "60000/60000 [==============================] - 75s 1ms/sample - loss: 0.0218 - accuracy: 0.9933\n",
      "Epoch 4/10\n",
      "60000/60000 [==============================] - 72s 1ms/sample - loss: 0.0144 - accuracy: 0.9954\n",
      "Epoch 5/10\n",
      "60000/60000 [==============================] - 71s 1ms/sample - loss: 0.0123 - accuracy: 0.9957\n",
      "Epoch 6/10\n",
      "60000/60000 [==============================] - 70s 1ms/sample - loss: 0.0080 - accuracy: 0.9975\n",
      "Epoch 7/10\n",
      "60000/60000 [==============================] - 72s 1ms/sample - loss: 0.0070 - accuracy: 0.9977\n",
      "Epoch 8/10\n",
      "60000/60000 [==============================] - 73s 1ms/sample - loss: 0.0059 - accuracy: 0.9979\n",
      "Epoch 9/10\n",
      "60000/60000 [==============================] - 71s 1ms/sample - loss: 0.0042 - accuracy: 0.9985\n",
      "Epoch 10/10\n",
      "60000/60000 [==============================] - 71s 1ms/sample - loss: 0.0054 - accuracy: 0.9982\n"
     ]
    },
    {
     "data": {
      "text/plain": [
       "<keras.callbacks.History at 0x25dd10c4460>"
      ]
     },
     "execution_count": 18,
     "metadata": {},
     "output_type": "execute_result"
    }
   ],
   "source": [
    "model = create_model()\n",
    "model.fit(train_images_original, train_labels_original, epochs=10)"
   ]
  },
  {
   "cell_type": "code",
   "execution_count": 19,
   "id": "abf3417d",
   "metadata": {},
   "outputs": [],
   "source": [
    "classifier = KerasClassifier(model=model, clip_values=(min_, max_))"
   ]
  },
  {
   "cell_type": "markdown",
   "id": "e6e197f2",
   "metadata": {},
   "source": [
    "#### 2. Generar Ejemplos Adversariales utilizando FGSM\n",
    "Luego de esto vamos a generar los ejemplos adversariales que serán la data que sufrió del ataque y posteriormente será introducida para poder determinar el impacto del ataque en el modelo."
   ]
  },
  {
   "cell_type": "code",
   "execution_count": 20,
   "id": "0e947a19",
   "metadata": {},
   "outputs": [
    {
     "name": "stderr",
     "output_type": "stream",
     "text": [
      "C:\\Users\\marco\\AppData\\Roaming\\Python\\Python310\\site-packages\\keras\\engine\\training_v1.py:2359: UserWarning: `Model.state_updates` will be removed in a future version. This property should not be used in TensorFlow 2.0, as `updates` are applied automatically.\n",
      "  updates=self.state_updates,\n"
     ]
    },
    {
     "data": {
      "image/png": "[encoded data removed]",
      "text/plain": [
       "<Figure size 2000x400 with 5 Axes>"
      ]
     },
     "metadata": {},
     "output_type": "display_data"
    },
    {
     "data": {
      "image/png": "[encoded data removed]",
      "text/plain": [
       "<Figure size 2000x400 with 5 Axes>"
      ]
     },
     "metadata": {},
     "output_type": "display_data"
    }
   ],
   "source": [
    "fgsm = FastGradientMethod(estimator=classifier, eps=0.1)\n",
    "\n",
    "adversarial_samples_fgsm = fgsm.generate(x=test_images_original)\n",
    "adv_predictions = model.predict(adversarial_samples_fgsm)\n",
    "titles_fgsm = ['Adversarial (FGSM)' for _ in range(5)]\n",
    "\n",
    "plot_images(test_images_original[:5], titles_original, 1, 5, (20, 4))\n",
    "plot_images(adversarial_samples_fgsm[:5], titles_fgsm, 1, 5, (20, 4))\n"
   ]
  },
  {
   "cell_type": "markdown",
   "id": "5f1bfc10",
   "metadata": {},
   "source": [
    "#### 3. Reentrenar el modelo con la data de ejemplos adversariales\n",
    "Luego de tener la data de los ejemplos adversariales vamos con el proceso de re entrenar el modelo con esta información para verdaderamente aplicar el ataque."
   ]
  },
  {
   "cell_type": "code",
   "execution_count": 21,
   "id": "4cab427e",
   "metadata": {},
   "outputs": [
    {
     "name": "stdout",
     "output_type": "stream",
     "text": [
      "Train on 70000 samples\n",
      "Epoch 1/10\n",
      "70000/70000 [==============================] - 86s 1ms/sample - loss: 0.1082 - accuracy: 0.9666\n",
      "Epoch 2/10\n",
      "70000/70000 [==============================] - 93s 1ms/sample - loss: 0.0387 - accuracy: 0.9875\n",
      "Epoch 3/10\n",
      "70000/70000 [==============================] - 87s 1ms/sample - loss: 0.0239 - accuracy: 0.9921\n",
      "Epoch 4/10\n",
      "70000/70000 [==============================] - 87s 1ms/sample - loss: 0.0162 - accuracy: 0.9949\n",
      "Epoch 5/10\n",
      "70000/70000 [==============================] - 86s 1ms/sample - loss: 0.0115 - accuracy: 0.9964\n",
      "Epoch 6/10\n",
      "70000/70000 [==============================] - 86s 1ms/sample - loss: 0.0085 - accuracy: 0.9971\n",
      "Epoch 7/10\n",
      "70000/70000 [==============================] - 84s 1ms/sample - loss: 0.0074 - accuracy: 0.9975\n",
      "Epoch 8/10\n",
      "70000/70000 [==============================] - 85s 1ms/sample - loss: 0.0061 - accuracy: 0.9979\n",
      "Epoch 9/10\n",
      "70000/70000 [==============================] - 86s 1ms/sample - loss: 0.0044 - accuracy: 0.9986\n",
      "Epoch 10/10\n",
      "70000/70000 [==============================] - 86s 1ms/sample - loss: 0.0060 - accuracy: 0.9980\n"
     ]
    }
   ],
   "source": [
    "train_images_adv = np.concatenate([train_images_original, adversarial_samples_fgsm])\n",
    "train_labels_adv = np.concatenate([train_labels_original, test_labels_original[:len(adversarial_samples_fgsm)]])\n",
    "\n",
    "model_defense = create_model()\n",
    "model_defense.fit(train_images_adv, train_labels_adv, epochs=10)\n",
    "\n",
    "classifier_defense = KerasClassifier(model=model_defense, clip_values=(min_, max_))"
   ]
  },
  {
   "cell_type": "markdown",
   "id": "00c19ff9",
   "metadata": {},
   "source": [
    "#### 4. Evaluar impacto del ataque en el modelo\n",
    "Luego vamos a mostrar algunas metricas del impacto que ha tenido el ataque en el modelo"
   ]
  },
  {
   "cell_type": "code",
   "execution_count": 22,
   "id": "f1390136",
   "metadata": {},
   "outputs": [
    {
     "name": "stdout",
     "output_type": "stream",
     "text": [
      "Precisión en ejemplos originales después de la defensa: 0.9985\n",
      "Precisión en ejemplos adversariales después de la defensa: 0.9995\n"
     ]
    }
   ],
   "source": [
    "accuracy_adversarial_defense = np.mean(np.argmax(classifier_defense.predict(adversarial_samples_fgsm), axis=1) == np.argmax(test_labels_original, axis=1))\n",
    "accuracy_original_defense = np.mean(np.argmax(classifier_defense.predict(test_images_original), axis=1) == np.argmax(test_labels_original, axis=1))\n",
    "\n",
    "print(\"Precisión en ejemplos originales después de la defensa:\", accuracy_original_defense)\n",
    "print(\"Precisión en ejemplos adversariales después de la defensa:\", accuracy_adversarial_defense)"
   ]
  },
  {
   "cell_type": "markdown",
   "id": "03525d9b",
   "metadata": {},
   "source": [
    "#### 5. Defensa del modelo"
   ]
  },
  {
   "cell_type": "markdown",
   "id": "7ca9f614",
   "metadata": {},
   "source": [
    "Aplicaremos la medida de defensa con la herramienta de Feature Squeezing el cual reduce la complejidad de las características de entrada, disminuyendo la profundidad de bits de las imágenes para eliminar pequeñas perturbaciones adversariales. Esto limita el espacio de posibles ataques, haciendo más difícil que los ejemplos adversariales engañen al modelo."
   ]
  },
  {
   "cell_type": "code",
   "execution_count": 23,
   "id": "41debf6c",
   "metadata": {},
   "outputs": [],
   "source": [
    "from art.defences.preprocessor import FeatureSqueezing, SpatialSmoothing\n",
    "from sklearn.metrics import accuracy_score"
   ]
  },
  {
   "cell_type": "code",
   "execution_count": 24,
   "id": "6bba3edd",
   "metadata": {},
   "outputs": [
    {
     "name": "stdout",
     "output_type": "stream",
     "text": [
      "Precisión en datos adversariales después de Feature Squeezing: 0.9995\n"
     ]
    }
   ],
   "source": [
    "feature_squeezing = FeatureSqueezing(clip_values=(min_, max_), bit_depth=5)\n",
    "x_test_adv_squeezed, _ = feature_squeezing(adversarial_samples_fgsm)\n",
    "adv_predictions_squeezed = model_defense.predict(x_test_adv_squeezed)\n",
    "adv_acc_squeezed = accuracy_score(np.argmax(test_labels_original, axis=1), np.argmax(adv_predictions_squeezed, axis=1))\n",
    "\n",
    "print(f\"Precisión en datos adversariales después de Feature Squeezing: {adv_acc_squeezed}\")\n"
   ]
  },
  {
   "cell_type": "markdown",
   "id": "c720522a",
   "metadata": {},
   "source": [
    " Al aplicar Feature Squeezing a los ejemplos adversariales generados por el ataque FGSM (Fast Gradient Sign Method), se obtuvo una precisión en datos adversariales del 99.95%.\n",
    "\n",
    "Este resultado indica que Feature Squeezing es altamente efectivo para mitigar los efectos del ataque FGSM, permitiendo que el modelo mantenga una alta precisión en la clasificación de los ejemplos adversariales."
   ]
  },
  {
   "cell_type": "markdown",
   "id": "f79ac9d1",
   "metadata": {},
   "source": [
    "Y finalmente tambien con Spatial Smoothing el cual aplica un filtro de suavizado a las imágenes, utilizando operaciones como el filtro de mediana. Esto reduce el impacto de pequeñas perturbaciones adversariales al suavizar las alteraciones locales, haciendo que los ataques sean menos efectivos."
   ]
  },
  {
   "cell_type": "code",
   "execution_count": 25,
   "id": "3c630ff4",
   "metadata": {},
   "outputs": [
    {
     "name": "stdout",
     "output_type": "stream",
     "text": [
      "Precisión en datos adversariales después de Spatial Smoothing: 0.9901\n"
     ]
    }
   ],
   "source": [
    "spatial_smoothing = SpatialSmoothing(clip_values=(min_, max_), window_size=3)\n",
    "x_test_adv_smoothed, _ = spatial_smoothing(adversarial_samples_fgsm)\n",
    "adv_predictions_smoothed = model_defense.predict(x_test_adv_smoothed)\n",
    "adv_acc_smoothed = accuracy_score(np.argmax(test_labels_original, axis=1), np.argmax(adv_predictions_smoothed, axis=1))\n",
    "\n",
    "print(f\"Precisión en datos adversariales después de Spatial Smoothing: {adv_acc_smoothed}\")"
   ]
  },
  {
   "cell_type": "markdown",
   "id": "ea992d53",
   "metadata": {},
   "source": [
    "Aplicando esta técnica, la precisión en datos adversariales fue del 99.01%. Esto indica que Spatial Smoothing también es muy eficaz en reducir el impacto de perturbaciones adversariales generadas por FGSM, permitiendo al modelo clasificar correctamente la mayoría de los ejemplos adversariales."
   ]
  },
  {
   "cell_type": "markdown",
   "id": "bb0cefce",
   "metadata": {},
   "source": [
    "## Defensa de Carlini & Wagner"
   ]
  },
  {
   "cell_type": "markdown",
   "id": "e6148554",
   "metadata": {},
   "source": [
    "#### 1. Crear y entrenar el modelo\n",
    "Vamos a proceder igual que con el otro ataque creando un modelo en blanco que sirva para poder ver los resultados de todo el proceso."
   ]
  },
  {
   "cell_type": "code",
   "execution_count": 33,
   "id": "5a7db48c",
   "metadata": {},
   "outputs": [],
   "source": [
    "import tensorflow as tf\n",
    "from tensorflow.keras.layers import Conv2D, MaxPool2D, Dense, Flatten\n",
    "import matplotlib.pyplot as plt\n",
    "import numpy as np\n",
    "from art.estimators.classification import KerasClassifier\n",
    "from art.attacks.evasion import CarliniL2Method\n",
    "from art.utils import load_mnist\n",
    "from art.defences.trainer import AdversarialTrainer\n",
    "from art.defences.preprocessor import FeatureSqueezing, SpatialSmoothing\n",
    "\n",
    "(train_images_original, train_labels_original), (test_images_original, test_labels_original), min_, max_ = load_mnist()\n",
    "\n",
    "def create_model():\n",
    "    model = tf.keras.models.Sequential([\n",
    "        Conv2D(32, 3, activation=\"relu\", input_shape=(28, 28, 1)),\n",
    "        Conv2D(64, 3, activation=\"relu\"),\n",
    "        MaxPool2D(pool_size=2),\n",
    "        Flatten(),\n",
    "        Dense(128, activation=\"relu\"),\n",
    "        Dense(10, activation=\"softmax\")\n",
    "    ])\n",
    "    model.compile(optimizer=\"adam\", loss=\"categorical_crossentropy\", metrics=[\"accuracy\"])\n",
    "    return model"
   ]
  },
  {
   "cell_type": "code",
   "execution_count": 34,
   "id": "143ed602",
   "metadata": {},
   "outputs": [],
   "source": [
    "def plot_images(images, titles, nrows, ncols, figsize):\n",
    "    fig, axes = plt.subplots(nrows=nrows, ncols=ncols, figsize=figsize)\n",
    "    for i, ax in enumerate(axes.flat):\n",
    "        ax.imshow(images[i], cmap='gray')\n",
    "        ax.set_title(titles[i])\n",
    "        ax.axis('off')\n",
    "    plt.tight_layout()\n",
    "    plt.show()\n",
    "\n",
    "titles_original = ['Original' for _ in range(5)]"
   ]
  },
  {
   "cell_type": "code",
   "execution_count": 35,
   "id": "8cf5de82",
   "metadata": {},
   "outputs": [
    {
     "name": "stdout",
     "output_type": "stream",
     "text": [
      "Train on 60000 samples\n",
      "Epoch 1/3\n",
      "60000/60000 [==============================] - 90s 1ms/sample - loss: 0.1072 - accuracy: 0.9675\n",
      "Epoch 2/3\n",
      "60000/60000 [==============================] - 84s 1ms/sample - loss: 0.0375 - accuracy: 0.9881\n",
      "Epoch 3/3\n",
      "60000/60000 [==============================] - 83s 1ms/sample - loss: 0.0215 - accuracy: 0.9930\n"
     ]
    },
    {
     "data": {
      "text/plain": [
       "<keras.callbacks.History at 0x25da5817b20>"
      ]
     },
     "execution_count": 35,
     "metadata": {},
     "output_type": "execute_result"
    }
   ],
   "source": [
    "model = create_model()\n",
    "model.fit(train_images_original, train_labels_original, epochs=3)"
   ]
  },
  {
   "cell_type": "code",
   "execution_count": 36,
   "id": "17b2d530",
   "metadata": {},
   "outputs": [],
   "source": [
    "classifier = KerasClassifier(model=model, clip_values=(min_, max_))"
   ]
  },
  {
   "cell_type": "markdown",
   "id": "01598e1d",
   "metadata": {},
   "source": [
    "#### 2. Generar la data del ataque (data adversarial para ataque)\n",
    "Vamos a utilizar el ataque de Carlini y Wagner para lograr generar la información que buscamos para ejemplificar el ataque."
   ]
  },
  {
   "cell_type": "code",
   "execution_count": 37,
   "id": "f9fa434d",
   "metadata": {},
   "outputs": [
    {
     "name": "stderr",
     "output_type": "stream",
     "text": [
      "C:\\Users\\marco\\AppData\\Roaming\\Python\\Python310\\site-packages\\keras\\engine\\training_v1.py:2359: UserWarning: `Model.state_updates` will be removed in a future version. This property should not be used in TensorFlow 2.0, as `updates` are applied automatically.\n",
      "  updates=self.state_updates,\n",
      "C&W L_2: 100%|██████████| 10000/10000 [25:58<00:00,  6.42it/s]\n"
     ]
    },
    {
     "data": {
      "image/png": "[encoded data removed]",
      "text/plain": [
       "<Figure size 2000x400 with 5 Axes>"
      ]
     },
     "metadata": {},
     "output_type": "display_data"
    },
    {
     "data": {
      "image/png": "[encoded data removed]",
      "text/plain": [
       "<Figure size 2000x400 with 5 Axes>"
      ]
     },
     "metadata": {},
     "output_type": "display_data"
    }
   ],
   "source": [
    "cw = CarliniL2Method(classifier=classifier, targeted=False, max_iter=10, binary_search_steps=1, learning_rate=0.01)\n",
    "adversarial_samples_cw = cw.generate(x=test_images_original)\n",
    "adv_predictions = model.predict(adversarial_samples_cw)\n",
    "titles_cw = ['Adversarial (C&W)' for _ in range(5)]\n",
    "\n",
    "plot_images(test_images_original[:5], titles_original, 1, 5, (20, 4))\n",
    "plot_images(adversarial_samples_cw[:5], titles_cw, 1, 5, (20, 4))"
   ]
  },
  {
   "cell_type": "markdown",
   "id": "d791713e",
   "metadata": {},
   "source": [
    "#### 3. Vamos a re entrenar con la información generada"
   ]
  },
  {
   "cell_type": "code",
   "execution_count": 38,
   "id": "8a16c6e4",
   "metadata": {},
   "outputs": [
    {
     "name": "stdout",
     "output_type": "stream",
     "text": [
      "Train on 70000 samples\n",
      "Epoch 1/3\n",
      "70000/70000 [==============================] - 77s 1ms/sample - loss: 0.0972 - accuracy: 0.9704\n",
      "Epoch 2/3\n",
      "70000/70000 [==============================] - 77s 1ms/sample - loss: 0.0339 - accuracy: 0.9893\n",
      "Epoch 3/3\n",
      "70000/70000 [==============================] - 78s 1ms/sample - loss: 0.0213 - accuracy: 0.9936\n"
     ]
    },
    {
     "name": "stderr",
     "output_type": "stream",
     "text": [
      "Precompute adv samples: 100%|██████████| 1/1 [2:58:41<00:00, 10721.09s/it]\n",
      "Adversarial training epochs: 100%|██████████| 3/3 [02:40<00:00, 53.59s/it]\n"
     ]
    },
    {
     "name": "stdout",
     "output_type": "stream",
     "text": [
      "Precisión después del entrenamiento adversarial en datos limpios: [1.0159571e-11 2.4270464e-11 1.0000000e+00 9.7696670e-21 2.3598874e-19\n",
      " 1.3322958e-22 5.1574454e-16 8.4270696e-18 4.7874302e-16 7.4737208e-18]\n",
      "Precisión después del entrenamiento adversarial en datos adversariales: [1.0159571e-11 2.4270464e-11 1.0000000e+00 9.7696670e-21 2.3598874e-19\n",
      " 1.3322958e-22 5.1574454e-16 8.4270696e-18 4.7874302e-16 7.4737208e-18]\n"
     ]
    }
   ],
   "source": [
    "train_images_adv = np.concatenate([train_images_original, adversarial_samples_cw])\n",
    "train_labels_adv = np.concatenate([train_labels_original, test_labels_original[:len(adversarial_samples_cw)]])\n",
    "\n",
    "model_defense = create_model()\n",
    "model_defense.fit(train_images_adv, train_labels_adv, epochs=3)\n",
    "\n",
    "classifier_defense = KerasClassifier(model=model_defense, clip_values=(min_, max_))\n",
    "\n",
    "adv_trainer = AdversarialTrainer(classifier=classifier_defense, attacks=cw, ratio=1.0)\n",
    "adv_trainer.fit(x=train_images_adv, y=train_labels_adv, nb_epochs=3)\n",
    "\n",
    "clean_acc_adv = classifier_defense.predict(x=test_images_original, y=test_labels_original)[1]\n",
    "adv_acc_adv = classifier_defense.predict(x=adversarial_samples_cw, y=test_labels_original)[1]\n",
    "\n",
    "print(f\"Precisión después del entrenamiento adversarial en datos limpios: {clean_acc_adv}\")\n",
    "print(f\"Precisión después del entrenamiento adversarial en datos adversariales: {adv_acc_adv}\")"
   ]
  },
  {
   "cell_type": "markdown",
   "id": "0679f38b",
   "metadata": {},
   "source": [
    "#### 4. Defensa del modelo"
   ]
  },
  {
   "cell_type": "markdown",
   "id": "eaa4a4fd",
   "metadata": {},
   "source": [
    "Primero vamos a aplicar Feature Squeezing"
   ]
  },
  {
   "cell_type": "code",
   "execution_count": 39,
   "id": "32bc5e06",
   "metadata": {},
   "outputs": [
    {
     "name": "stdout",
     "output_type": "stream",
     "text": [
      "Precisión en datos adversariales después de Feature Squeezing: 1.0\n"
     ]
    }
   ],
   "source": [
    "feature_squeezing = FeatureSqueezing(clip_values=(min_, max_), bit_depth=5)\n",
    "x_test_adv_squeezed, _ = feature_squeezing(adversarial_samples_cw)\n",
    "adv_predictions_squeezed = model_defense.predict(x_test_adv_squeezed)\n",
    "adv_acc_squeezed = accuracy_score(np.argmax(test_labels_original, axis=1), np.argmax(adv_predictions_squeezed, axis=1))\n",
    "\n",
    "print(f\"Precisión en datos adversariales después de Feature Squeezing: {adv_acc_squeezed}\")\n"
   ]
  },
  {
   "cell_type": "markdown",
   "id": "a6423282",
   "metadata": {},
   "source": [
    "Al aplicar Feature Squeezing a los ejemplos adversariales generados por el ataque Carlini & Wagner (C&W), se obtuvo una precisión en datos adversariales del 100%.\n",
    "\n",
    "Este resultado indica que Feature Squeezing es extremadamente efectivo para mitigar los efectos del ataque C&W, permitiendo que el modelo clasifique correctamente todos los ejemplos adversariales."
   ]
  },
  {
   "cell_type": "markdown",
   "id": "51636fa2",
   "metadata": {},
   "source": [
    "Luego vamos a aplicar Spatial Smoothing"
   ]
  },
  {
   "cell_type": "code",
   "execution_count": 40,
   "id": "f9655791",
   "metadata": {},
   "outputs": [
    {
     "name": "stdout",
     "output_type": "stream",
     "text": [
      "Precisión en datos adversariales después de Spatial Smoothing: 0.995\n"
     ]
    }
   ],
   "source": [
    "spatial_smoothing = SpatialSmoothing(clip_values=(min_, max_), window_size=3)\n",
    "x_test_adv_smoothed, _ = spatial_smoothing(adversarial_samples_cw)\n",
    "adv_predictions_smoothed = model_defense.predict(x_test_adv_smoothed)\n",
    "adv_acc_smoothed = accuracy_score(np.argmax(test_labels_original, axis=1), np.argmax(adv_predictions_smoothed, axis=1))\n",
    "\n",
    "print(f\"Precisión en datos adversariales después de Spatial Smoothing: {adv_acc_smoothed}\")"
   ]
  },
  {
   "cell_type": "markdown",
   "id": "76878e06",
   "metadata": {},
   "source": [
    "Este resultado muestra que Spatial Smoothing también es muy eficaz en reducir el impacto de perturbaciones adversariales generadas por C&W, permitiendo al modelo mantener una alta precisión en la clasificación de ejemplos adversariales."
   ]
  }
 ],
 "metadata": {
  "kernelspec": {
   "display_name": "Python 3 (ipykernel)",
   "language": "python",
   "name": "python3"
  },
  "language_info": {
   "codemirror_mode": {
    "name": "ipython",
    "version": 3
   },
   "file_extension": ".py",
   "mimetype": "text/x-python",
   "name": "python",
   "nbconvert_exporter": "python",
   "pygments_lexer": "ipython3",
   "version": "3.10.5"
  }
 },
 "nbformat": 4,
 "nbformat_minor": 5
}
